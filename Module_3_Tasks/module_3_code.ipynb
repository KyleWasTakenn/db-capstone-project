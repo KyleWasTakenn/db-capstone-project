{
 "cells": [
  {
   "cell_type": "code",
   "execution_count": null,
   "id": "84ab772e",
   "metadata": {},
   "outputs": [],
   "source": [
    "# Imports\n",
    "import mysql.connector as connector"
   ]
  },
  {
   "cell_type": "code",
   "execution_count": null,
   "id": "97b792b5",
   "metadata": {},
   "outputs": [],
   "source": [
    "# Connecting to the database with error handling.\n",
    "try:\n",
    "     connection = connector.connect(\n",
    "          user = \"root\",\n",
    "          password = \"Tib4lt_cosmic_!mpo$ter\",\n",
    "          db = 'littlelemondb'\n",
    "          )\n",
    "except connector.Error as e:\n",
    "     print(f'Error connecting to database: {e}')"
   ]
  },
  {
   "cell_type": "code",
   "execution_count": null,
   "id": "668a1956",
   "metadata": {},
   "outputs": [],
   "source": [
    "# Instantiating the cursor\n",
    "cursor = connection.cursor()"
   ]
  },
  {
   "cell_type": "code",
   "execution_count": null,
   "id": "44347c91",
   "metadata": {},
   "outputs": [],
   "source": [
    "# Code cell for refreshing to a new cursor.\n",
    "cursor.close()\n",
    "cursor = connection.cursor()"
   ]
  },
  {
   "cell_type": "code",
   "execution_count": 16,
   "id": "c4a2b7bb",
   "metadata": {},
   "outputs": [
    {
     "data": {
      "text/plain": [
       "[]"
      ]
     },
     "execution_count": 16,
     "metadata": {},
     "output_type": "execute_result"
    }
   ],
   "source": [
    "# Code cell for reading unread results and discarding remaining results\n",
    "cursor.fetchall()"
   ]
  },
  {
   "cell_type": "code",
   "execution_count": 21,
   "id": "bec76d57",
   "metadata": {},
   "outputs": [],
   "source": [
    "# SQL Queries\n",
    "qry_show_tables = '''\n",
    "SHOW TABLES;\n",
    "'''\n",
    "\n",
    "qry_promotional_sales_data = '''\n",
    "SELECT\n",
    "     CONCAT(c.CustomerFirstName, ' ', c.CustomerLastName) AS 'Full Name',\n",
    "     c.CustomerPhone AS 'Customer Phone',\n",
    "     c.CustomerEmail AS 'Customer Email',\n",
    "     SUM(oi.Quantity * mi.ItemCost) AS 'Order Cost'\n",
    "FROM\n",
    "     Customers c\n",
    "JOIN\n",
    "     Orders o ON o.OrderCustomerID = c.CustomerID\n",
    "JOIN\n",
    "     OrderItems oi ON oi.OrderID = o.OrderID\n",
    "JOIN\n",
    "     MenuItems mi ON mi.ItemID = oi.ItemID\n",
    "GROUP BY\n",
    "    c.CustomerID, c.CustomerFirstName, c.CustomerLastName, \n",
    "    c.CustomerPhone, c.CustomerEmail\n",
    "HAVING\n",
    "     SUM(oi.Quantity * mi.ItemCost) > 60;\n",
    "'''"
   ]
  },
  {
   "cell_type": "code",
   "execution_count": 19,
   "id": "f85789b7",
   "metadata": {},
   "outputs": [
    {
     "name": "stdout",
     "output_type": "stream",
     "text": [
      "Displaying all tables:\n",
      "- bookings\n",
      "- customers\n",
      "- deliverystatus\n",
      "- menu\n",
      "- menuitems\n",
      "- menus\n",
      "- orderitems\n",
      "- orders\n",
      "- ordersview\n",
      "- staff\n"
     ]
    }
   ],
   "source": [
    "# Executing Queries\n",
    "cursor.execute(qry_show_tables)\n",
    "results = sorted(result[0] for result in cursor.fetchall())\n",
    "\n",
    "print(f'Displaying all tables:')\n",
    "for result in results:\n",
    "     print(f'- {result}')"
   ]
  },
  {
   "cell_type": "code",
   "execution_count": 31,
   "id": "1d4edb17",
   "metadata": {},
   "outputs": [
    {
     "name": "stdout",
     "output_type": "stream",
     "text": [
      "Customers valid for upcoming promotion:\n",
      "Full Name | Phone Number | Email | Total Order Cost\n",
      "\n",
      "Elena Conti, 5551002004, elena.conti@example.com, $68\n",
      "Sophia Rossi, 5551002000, sophia.rossi@example.com, $72\n"
     ]
    }
   ],
   "source": [
    "'''\n",
    "Little Lemon would like the following data:\n",
    "From Customers Table:\n",
    "- Full Name\n",
    "- Email\n",
    "- Phone Number\n",
    "\n",
    "For every order >$60\n",
    "'''\n",
    "\n",
    "cursor.execute(qry_promotional_sales_data)\n",
    "results = sorted(cursor.fetchall())\n",
    "\n",
    "print(f'Customers valid for upcoming promotion:')\n",
    "print(f'Full Name | Phone Number | Email | Total Order Cost\\n')\n",
    "for result in results:\n",
    "     print(f'{result[0]}, {result[1]}, {result[2]}, ${result[3]}')"
   ]
  }
 ],
 "metadata": {
  "kernelspec": {
   "display_name": ".venv",
   "language": "python",
   "name": "python3"
  },
  "language_info": {
   "codemirror_mode": {
    "name": "ipython",
    "version": 3
   },
   "file_extension": ".py",
   "mimetype": "text/x-python",
   "name": "python",
   "nbconvert_exporter": "python",
   "pygments_lexer": "ipython3",
   "version": "3.11.5"
  }
 },
 "nbformat": 4,
 "nbformat_minor": 5
}
